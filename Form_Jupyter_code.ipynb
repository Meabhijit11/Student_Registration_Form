{
 "cells": [
  {
   "cell_type": "markdown",
   "id": "f035876f",
   "metadata": {},
   "source": [
    "# Tuition Class Registration Form"
   ]
  },
  {
   "cell_type": "markdown",
   "id": "5bae7c58",
   "metadata": {},
   "source": [
    "This project is basically a Registration form for a PG Tuition Class "
   ]
  },
  {
   "cell_type": "markdown",
   "id": "8eb346f9",
   "metadata": {},
   "source": [
    "In this project I have used \"Python\" , \"Python TKinter\", and \"MySQL\".\n",
    "\n",
    "Python for programming , Python TKinter for GUI and MySQL for storing Student's data into database."
   ]
  },
  {
   "cell_type": "markdown",
   "id": "651b3538",
   "metadata": {},
   "source": [
    "##############################################################################################################################"
   ]
  },
  {
   "cell_type": "markdown",
   "id": "ce4a336c",
   "metadata": {},
   "source": [
    "# Python"
   ]
  },
  {
   "cell_type": "markdown",
   "id": "dbcd2475",
   "metadata": {},
   "source": [
    "Python :- Python is an interpreted high-level general-purpose programming language.\n",
    "    In this project Python is my programming language."
   ]
  },
  {
   "cell_type": "markdown",
   "id": "4fd00f27",
   "metadata": {},
   "source": [
    "# Python TKinter"
   ]
  },
  {
   "cell_type": "markdown",
   "id": "328a672a",
   "metadata": {},
   "source": [
    "Python TKinter :- Tkinter is a Python binding to the Tk GUI toolkit. It is the standard Python interface to the Tk GUI toolkit, and Tkinter is Python's de-facto standard GUI (Graphical User Interface) package.\n",
    "\n",
    "In fact, it’s the only framework built into the Python standard library. \n",
    "\n",
    "This framework provides Python users with a simple way to create GUI elements using the widgets found in the Tk toolkit. Tk widgets can be used to construct buttons, menus, data fields, etc. in a Python application. Once created, these graphical elements can be associated with or interact with features, functionality, methods, data or even other widgets. "
   ]
  },
  {
   "cell_type": "markdown",
   "id": "d3f601b0",
   "metadata": {},
   "source": [
    "# MySQL"
   ]
  },
  {
   "cell_type": "markdown",
   "id": "1a263ff2",
   "metadata": {},
   "source": [
    "MySQL :- MySQL is a relational database management system based on SQL – Structured Query Language.\n",
    "\n",
    "In this model, tables consist of rows and columns, and relationships between data elements all follow a strict logical structure."
   ]
  },
  {
   "cell_type": "markdown",
   "id": "bc97da0b",
   "metadata": {},
   "source": [
    "###############################################################################################################################"
   ]
  },
  {
   "cell_type": "markdown",
   "id": "2b400716",
   "metadata": {},
   "source": [
    "# Problem Statement"
   ]
  },
  {
   "cell_type": "markdown",
   "id": "27938129",
   "metadata": {},
   "source": [
    "Lets consider a situation , when we go for an inquiry about tuition class , they used to give us a Page Form and ask us , if we want to get addmission then we have to fill this form as a registration process.\n",
    "Some classes also charges price for the Form as well . like 10 RS, 50 RS.\n",
    "\n",
    "It is also difficult for the Classes to maintained such a data also it takes too much space as well for storing.\n",
    "\n",
    "One of the best solution for such problem is that , if we have such software where we can do registration, which does not accupy space and also can maintained a record for a longer period of time. "
   ]
  },
  {
   "cell_type": "markdown",
   "id": "5ebceb1c",
   "metadata": {},
   "source": [
    "###############################################################################################################################"
   ]
  },
  {
   "cell_type": "markdown",
   "id": "11ecc6ba",
   "metadata": {},
   "source": [
    "# Problem Faced during Project"
   ]
  },
  {
   "cell_type": "markdown",
   "id": "e4a0f02a",
   "metadata": {},
   "source": [
    "First challenge was to get & placed each Label, Entries, Combo box, Radio button, Check Button into a proper placed.\n",
    "\n",
    "Next challenge was like to insert a proper data in SQL database.\n",
    "\n",
    "One of the big problem I faced during used of Radio button.\n",
    "I wanted that while selecting a radio button which I used for Gender, so values shuld be get store in Male & Female fasion , but it was storring 0 & 1 form.\n",
    "I tried different different methods to solved this but didn't get success.\n",
    "Then during my search and research then,  I came to know that, I have to used radio button for string variable insted of Int variable .\n",
    "\n",
    "Because of this my checkbutton problem also got resolved."
   ]
  },
  {
   "cell_type": "markdown",
   "id": "2c1f5c63",
   "metadata": {},
   "source": [
    "###############################################################################################################################"
   ]
  },
  {
   "cell_type": "markdown",
   "id": "90b8b0f5",
   "metadata": {},
   "source": [
    "# Program"
   ]
  },
  {
   "cell_type": "code",
   "execution_count": null,
   "id": "a9ced801",
   "metadata": {},
   "outputs": [],
   "source": [
    "from tkinter import *                     # Import Tkinter library\n",
    "import tkinter as tk\n",
    "from tkinter import ttk\n",
    "from tkinter import messagebox            # Import Tkinter Messagebox\n",
    "import mysql.connector                    # Import mysql connector to get connect mysql with python for insering query\n",
    "mydb = mysql.connector.connect(\n",
    "    host=\"localhost\",\n",
    "    user=\"root\",\n",
    "    password=\"\",\n",
    "    database=\"regi_form\"\n",
    ")\n",
    "mycursor = mydb.cursor()\n",
    "\n",
    "top = Tk()\n",
    "\n",
    "top.geometry(\"900x900\")                 # It defines size of screen to be appear\n",
    "\n",
    "c = Canvas(top, bg=\"orange\", height=\"800\", width=\"800\")     # It defines size of area where we have all data/label/entries.\n",
    "\n",
    "top.geometry(\"800x800\")                # Here we have bind the Canvas area"
   ]
  },
  {
   "cell_type": "markdown",
   "id": "81822907",
   "metadata": {},
   "source": [
    "The canvas widget is used to draw the canvas on the window.\n",
    "\n",
    "Widgets in Tkinter are the elements of GUI application which provides various controls (such as Labels, Buttons, ComboBoxes, CheckBoxes, MenuBars, RadioButtons and many more) to users to interact with the application."
   ]
  },
  {
   "cell_type": "code",
   "execution_count": null,
   "id": "033f9f3e",
   "metadata": {},
   "outputs": [],
   "source": [
    "name = Label(top, text=\"FIRST NAME\",bg=\"orange\",foreground=\"black\").place(x=500, y=30)\n",
    "name_loc = Label(top, text=\"(max 30 character a-z and A-Z)\",bg=\"orange\",foreground=\"black\").place(x=750, y=30)\n",
    "\n",
    "lname = Label(top, text=\"LAST NAME\",bg=\"orange\",foreground=\"black\").place(x=500, y=60)\n",
    "lname_loc = Label(top, text=\"(max 30 character a-z and A-Z)\",bg=\"orange\",foreground=\"black\").place(x=750, y=60)\n",
    "\n",
    "dob = Label(top, text=\"DATE OF BIRTH\",bg=\"orange\",foreground=\"black\").place(x=500, y=90)\n",
    "\n",
    "ttk.Label(top, text = \"Month\",).place(x=800,y=90)"
   ]
  },
  {
   "cell_type": "markdown",
   "id": "20662c3f",
   "metadata": {},
   "source": [
    "Label = A label is a text used to display some message or information about the other widgets.\n",
    "\n",
    "text = \"Some_text\" :- Here we entered a text which we wanted to display on screen.\n",
    "\n",
    "bg = \"color_name\" :- It give color to backgroud to text.\n",
    "\n",
    "foreground = \"color_name\" :- It colored the foreground.\n",
    "\n",
    ".place(x=500, y=30) = It placed a given label in a given location using coordinates x & y."
   ]
  },
  {
   "cell_type": "code",
   "execution_count": null,
   "id": "fa376bf7",
   "metadata": {},
   "outputs": [],
   "source": [
    "n = tk.StringVar()\n",
    "monthchoosen = ttk.Combobox(top, width = 10, textvariable = n)\n",
    "monthchoosen['values'] = (' January',' February', ' March', ' April', ' May',' June',' July', ' August',' September',\n",
    "' October',' November',' December')\n",
    "monthchoosen.place(x=710, y=90)\n",
    "ttk.Label(top, text=\"Date\").place(x=670,y=90)\n",
    "number = tk.StringVar()\n",
    "numberChosen = ttk.Combobox(top, width=6, textvariable=number)\n",
    "numberChosen['values'] = (1,2,3,4,5,6,7,8,9,10,11,12,13,14,15,16,17,18,19,20,21,22,23,24,25,26,27,28,29,30,31)\n",
    "numberChosen.place(x=600, y=90)\n",
    "numberChosen.current(0)\n",
    "ttk.Label(top, text=\"Year\").place(x=930,y=90)\n",
    "number = tk.StringVar()\n",
    "yearChosen = ttk.Combobox(top, width=6, textvariable=number)\n",
    "yearChosen['values'] = (2000,2001,2002,2003,2004,2005,2006,2007,2008,2009,2010)\n",
    "yearChosen.place(x=860, y=90)"
   ]
  },
  {
   "cell_type": "markdown",
   "id": "6a7f7a7b",
   "metadata": {},
   "source": [
    "ComboBox = It contains a down arrow to select from list of available options.\n",
    "\n",
    "Here I have used ComboBox to display Day, Month, Year."
   ]
  },
  {
   "cell_type": "code",
   "execution_count": null,
   "id": "71bcce9e",
   "metadata": {},
   "outputs": [],
   "source": [
    "email = Label(top, text=\"EMAIL ID\",bg=\"orange\",foreground=\"black\").place(x=500, y=120)\n",
    "mobile = Label(top, text=\"MOBILE NO\",bg=\"orange\",foreground=\"black\").place(x=500, y=150)\n",
    "mobile_loc = Label(top, text=\"(max 10 digits only)\" ,bg=\"orange\",foreground=\"black\").place(x=750, y=150)\n",
    "gender = Label(top, text=\"GENDER\" ,bg=\"orange\",foreground=\"black\").place(x=500, y=180)\n",
    "addr = Label(top, text=\"ADDRESS\" ,bg=\"orange\",foreground=\"black\").place(x=500, y=230)\n",
    "city = Label(top, text=\"CITY\" ,bg=\"orange\",foreground=\"black\").place(x=500, y=260)\n",
    "\n",
    "pin = Label(top, text=\"PINCODE\",bg=\"orange\",foreground=\"black\").place(x=500, y=290)\n",
    "pin_loc = Label(top, text=\"(6 digit Number)\",bg=\"orange\",foreground=\"black\").place(x=750, y=290)\n",
    "state = Label(top, text=\"STATE\",bg=\"orange\",foreground=\"black\").place(x=500, y=320)\n",
    "country = Label(top, text=\"COUNTRY\",bg=\"orange\",foreground=\"black\").place(x=500, y=350)\n",
    "hobbies = Label(top, text=\"HOBBY\",bg=\"orange\",foreground=\"black\").place(x=500, y=390)\n",
    "edu = Label(top, text=\"EDUCATION\",bg=\"orange\",foreground=\"black\").place(x=500, y=460)\n",
    "sr = Label(top, text=\"SR\",bg=\"orange\",foreground=\"black\").place(x=600, y=460)\n",
    "ex = Label(top, text=\"EXAMINATION\",bg=\"orange\",foreground=\"black\").place(x=650, y=460)\n",
    "board = Label(top, text=\"BOARD\",bg=\"orange\",foreground=\"black\").place(x=785, y=460)\n",
    "board_loc = Label(top, text=\"(max 10 char)\",bg=\"orange\",foreground=\"black\").place(x=770, y=600)\n",
    "\n",
    "cs = Label(top, text=\"Courses \\nApplied For\",bg=\"orange\",foreground=\"black\").place(x=500, y=640)\n",
    "\n",
    "\n",
    "per = Label(top, text=\"PERCENTAGE\",bg=\"orange\",foreground=\"black\").place(x=900, y=460)\n",
    "pet = Label(top, text=\"(upto 2 decimal)\",bg=\"orange\",foreground=\"black\").place(x=900, y=600)\n",
    "\n",
    "ep = Label(top, text=\"YEAR OF PASSING\",bg=\"orange\",foreground=\"black\").place(x=1030, y=460)\n",
    "\n",
    "one = Label(top, text=\"1\",bg=\"orange\",foreground=\"black\").place(x=600, y=490)\n",
    "two = Label(top, text=\"2\",bg=\"orange\",foreground=\"black\").place(x=600, y=520)\n",
    "three = Label(top, text=\"3\",bg=\"orange\",foreground=\"black\").place(x=600, y=550)\n",
    "four = Label(top, text=\"4\",bg=\"orange\",foreground=\"black\").place(x=600, y=580)\n",
    "\n",
    "ex1 = Label(top, text=\"Class X\",bg=\"orange\",foreground=\"black\").place(x=670, y=490)\n",
    "ex2 = Label(top, text=\"Class XII\",bg=\"orange\",foreground=\"black\").place(x=670, y=520)\n",
    "ex3 = Label(top, text=\"Diploma\",bg=\"orange\",foreground=\"black\").place(x=670, y=550)\n",
    "ex4 = Label(top, text=\"Degree\",bg=\"orange\",foreground=\"black\").place(x=670, y=580)"
   ]
  },
  {
   "cell_type": "code",
   "execution_count": null,
   "id": "28e5bc45",
   "metadata": {},
   "outputs": [],
   "source": [
    "radio = tk.StringVar()\n",
    "radio.set(\"Male\")\n",
    "\n",
    "R1 = tk.Radiobutton(top, text=\"Male\",bg=\"orange\",foreground=\"black\", variable=radio,value=\"Male\")\n",
    "R1.pack(anchor=W)\n",
    "R1.place(x=600, y=180)\n",
    "R2 = tk.Radiobutton(top, text=\"Female\",bg=\"orange\",foreground=\"black\", variable=radio,value=\"Female\")\n",
    "R2.pack(anchor=W)\n",
    "R2.place(x=700, y=180)"
   ]
  },
  {
   "cell_type": "markdown",
   "id": "f40cce0d",
   "metadata": {},
   "source": [
    "Radio Button :- It is used to implement one-of-many selection as it allows only one option to be selected. Here, the user is provided with various options and the user can select only one option among them.\n",
    "\n",
    "Here, I set it default value to Male and if want to change click to Female."
   ]
  },
  {
   "cell_type": "code",
   "execution_count": null,
   "id": "1058fb2a",
   "metadata": {},
   "outputs": [],
   "source": [
    "radio_2 = tk.StringVar()\n",
    "radio_2.set(\"MCA\")\n",
    "\n",
    "R3 = tk.Radiobutton(top, text=\"MCA\",bg=\"orange\",foreground=\"black\", variable=radio_2,value=\"MCA\")\n",
    "R3.pack(anchor=W)\n",
    "R3.place(x=600, y=640)\n",
    "R4 = tk.Radiobutton(top, text=\"M.COM\",bg=\"orange\",foreground=\"black\", variable=radio_2,value=\"M.COM\")\n",
    "R4.pack(anchor=W)\n",
    "R4.place(x=670, y=640)\n",
    "R5 = tk.Radiobutton(top, text=\"MBA\",bg=\"orange\",foreground=\"black\", variable=radio_2,value=\"MBA\")\n",
    "R5.pack(anchor=W)\n",
    "R5.place(x=760, y=640)\n",
    "R6 = tk.Radiobutton(top, text=\"M.SC\",bg=\"orange\",foreground=\"black\", variable=radio_2,value=\"M.SC\")\n",
    "R6.pack(anchor=W)\n",
    "R6.place(x=830, y=640)"
   ]
  },
  {
   "cell_type": "code",
   "execution_count": null,
   "id": "36b711ab",
   "metadata": {},
   "outputs": [],
   "source": [
    "checkvar1 = StringVar()\n",
    "checkvar1.set(\"Drawing\")\n",
    "chkbtn1 = tk.Checkbutton(top, text=\"Drawing\", bg=\"orange\",variable = checkvar1 ,foreground=\"black\",onvalue=\"Drawing\",offvalue=0, height=1, width=10)\n",
    "chkbtn1.pack()\n",
    "chkbtn1.place(x=600, y=390)\n",
    "chkbtn2 = tk.Checkbutton(top, text=\"Singing\", bg=\"orange\",variable = checkvar1 , foreground=\"black\",  onvalue=\"Singing\",offvalue=0, height=1, width=10)\n",
    "chkbtn2.pack()\n",
    "chkbtn2.place(x=680,y=390)\n",
    "chkbtn3 = tk.Checkbutton(top, text=\"Dancing\", bg=\"orange\", variable = checkvar1 , foreground=\"black\", onvalue=\"Dancing\", offvalue=0, height=1, width=10)\n",
    "chkbtn3.pack()\n",
    "chkbtn3.place(x=770,y=390)\n",
    "chkbtn4 = tk.Checkbutton(top, text=\"Sketching\", bg=\"orange\", variable =checkvar1 , foreground=\"black\",onvalue=\"Sketching\", offvalue=0, height=1, width=10)\n",
    "chkbtn4.pack()\n",
    "chkbtn4.place(x=850,y=390)\n",
    "chkbtn5 = tk.Checkbutton(top, text=\"Sports\", bg=\"orange\", variable = checkvar1 , foreground=\"black\", onvalue=\"Sports\", offvalue=0, height=1, width=10)\n",
    "chkbtn5.pack()\n",
    "chkbtn5.place(x=595,y=420)"
   ]
  },
  {
   "cell_type": "markdown",
   "id": "b198e7ac",
   "metadata": {},
   "source": [
    "Check Button :- The Checkbutton is used to display the CheckButton on the window.\n",
    "    \n",
    "It displays a number of options to the user as toggle buttons from which user can select any number of options.\n",
    "\n",
    "Here I set default chack button to \"Drawing\" , if you want to change you can select other options."
   ]
  },
  {
   "cell_type": "code",
   "execution_count": null,
   "id": "59ab1228",
   "metadata": {},
   "outputs": [],
   "source": [
    "e1 = Entry(top)\n",
    "e1.place(x=600, y=30)\n",
    "e2 = Entry(top)\n",
    "e2.place(x=600, y=60)\n",
    "e3 = Entry(top)\n",
    "e3.place(x=600, y=120)\n",
    "e4 = Entry(top)\n",
    "e4.place(x=600, y=150)\n",
    "e5 = Entry(top)\n",
    "e5.place(x=600, y=230)\n",
    "e6 = Entry(top)\n",
    "e6.place(x=600, y=260)\n",
    "e7 = Entry(top)\n",
    "e7.place(x=600, y=290)\n",
    "e8 = Entry(top)\n",
    "e8.place(x=600, y=320)\n",
    "e9 = Entry(top)\n",
    "e9.place(x=600, y=350)\n",
    "# e10 = Entry(top)\n",
    "# e10.place(x=700, y=420)\n",
    "e11 = Entry(top)\n",
    "e11.place(x=750, y=490)\n",
    "e12 = Entry(top)\n",
    "e12.place(x=750, y=520)\n",
    "e13 = Entry(top)\n",
    "e13.place(x=750, y=550)\n",
    "e14 = Entry(top)\n",
    "e14.place(x=750, y=580)\n",
    "e15 = Entry(top)\n",
    "e15.place(x=885, y=490)\n",
    "e16 = Entry(top)\n",
    "e16.place(x=885, y=520)\n",
    "e17 = Entry(top)\n",
    "e17.place(x=885, y=550)\n",
    "e18 = Entry(top)\n",
    "e18.place(x=885, y=580)\n",
    "e19 = Entry(top)\n",
    "e19.place(x=1020, y=490)\n",
    "e20 = Entry(top)\n",
    "e20.place(x=1020, y=520)\n",
    "e21 = Entry(top)\n",
    "e21.place(x=1020, y=550)\n",
    "e22 = Entry(top)\n",
    "e22.place(x=1020, y=580)"
   ]
  },
  {
   "cell_type": "markdown",
   "id": "3a480b15",
   "metadata": {},
   "source": [
    "Entry = The entry widget is used to display the single-line text field to the user. It is commonly used to accept user values.\n",
    "\n",
    "We take input from User, whatever he wanted to insert for exmaple His Name, His Email id, etc."
   ]
  },
  {
   "cell_type": "markdown",
   "id": "37b5ac88",
   "metadata": {},
   "source": [
    "###############################################################################################################################"
   ]
  },
  {
   "cell_type": "markdown",
   "id": "b0d89a06",
   "metadata": {},
   "source": [
    "# Function to enter values into SQL"
   ]
  },
  {
   "cell_type": "code",
   "execution_count": null,
   "id": "014f5a8d",
   "metadata": {},
   "outputs": [],
   "source": [
    "def fun2():\n",
    "    name = e1.get()                       # Here we get entry of Name and pass to variable \"name\"\n",
    "    print(name)\n",
    "    lname = e2.get()\n",
    "    print(lname)\n",
    "    n = monthchoosen.get()                # Here we get selected Month & saved to variable \"n\"\n",
    "    print(n)\n",
    "    number = numberChosen.get()\n",
    "    print(number)\n",
    "    year = yearChosen.get()\n",
    "    print(year)\n",
    "    email = e3.get()\n",
    "    print(email)\n",
    "    mobile = e4.get()\n",
    "    print(mobile)\n",
    "    gender = radio.get()                 # Here we get Gender from radio selection button\n",
    "    print(gender)\n",
    "    addr = e5.get()\n",
    "    print(addr)\n",
    "    city = e6.get()\n",
    "    print(city)\n",
    "    pin = e7.get()\n",
    "    print(pin)\n",
    "    state = e8.get()\n",
    "    print(state)\n",
    "    country = e9.get()\n",
    "    print(country)\n",
    "    hobbies = StringVar.get(checkvar1)   # Here we get Hobbies from checkbox selection button\n",
    "    board_X = e11.get()\n",
    "    board_XII = e12.get()\n",
    "    board_Dip = e13.get()\n",
    "    board_Deg = e14.get()\n",
    "    per_X = e15.get()\n",
    "    per_XII = e16.get()\n",
    "    per_Dip = e17.get()\n",
    "    per_Deg = e18.get()\n",
    "    ep_X = e19.get()\n",
    "    ep_XII = e20.get()\n",
    "    ep_Dip = e21.get()\n",
    "    ep_Deg = e22.get()\n",
    "    cource_applied = radio_2.get()\n",
    "    print(cource_applied)\n",
    "\n",
    "    mycursor = mydb.cursor()\n",
    "    sql = \"INSERT INTO form_data (Fname,Lname,Day,Month,Year,Email,Mobile,Gender,Address,City,Pin,State,Country,Hobby,Class_X_Board,Class_X_Percentage,Class_X_Year_Of_Passing,Class_XII_Board,Class_XII_Percentage,Class_XII_Year_Of_Passing,Diploma_Board,Diploma_Percentage,Diploma_Year_Of_Passing,Degree_Board,Degree_Percentage,Degree_Year_Of_Passing,Cource_Applied) Values (%s,%s,%s,%s,%s,%s,%s,%s,%s,%s,%s,%s,%s,%s,%s,%s,%s,%s,%s,%s,%s,%s,%s,%s,%s,%s,%s) \"\n",
    "    val = (name,lname,number,n,year,email,mobile,gender,addr,city,pin,state,country,hobbies,board_X,per_X,ep_X,board_XII,per_XII,ep_XII,board_Dip,per_Dip,ep_Dip,board_Deg,per_Deg,ep_Deg,cource_applied)\n",
    "    mycursor.execute(sql,val)\n",
    "    mydb.commit()\n",
    "    messagebox.showinfo(\"Hello\", \"Do You Want To Submit\")\n",
    "    x = messagebox.askquestion('Yes|No', 'Do you want to Exit?')\n",
    "    if x == \"no\":\n",
    "        # top.destroy()\n",
    "        quit()\n",
    "    else:\n",
    "        fun1()\n",
    "    # messagebox.showinfo(\"Hello\", \"Do You Want To Submit\")"
   ]
  },
  {
   "cell_type": "markdown",
   "id": "1312e5a4",
   "metadata": {},
   "source": [
    "sql = In above code, variable \"sql\" is is used to Get Column name of table from Dataset.\n",
    "\n",
    "val = Here in \"val\" variable, are passing the values which we are getting e.g. Name, Mob no. Address.\n",
    "\n",
    "Once got values , then execute this and store into MySQL database."
   ]
  },
  {
   "cell_type": "markdown",
   "id": "b3b7dd4c",
   "metadata": {},
   "source": [
    "Message Box = This module is used to display the message-box in the desktop based applications."
   ]
  },
  {
   "cell_type": "code",
   "execution_count": null,
   "id": "c5458477",
   "metadata": {},
   "outputs": [],
   "source": [
    "def fun1():\n",
    "    e1.delete(0, END)\n",
    "    e2.delete(0, END)\n",
    "    e3.delete(0, END)\n",
    "    e4.delete(0, END)\n",
    "    e5.delete(0, END)\n",
    "    e6.delete(0, END)\n",
    "    e7.delete(0, END)\n",
    "    e8.delete(0, END)\n",
    "    e9.delete(0, END)\n",
    "    e11.delete(0, END)\n",
    "    e12.delete(0, END)\n",
    "    e13.delete(0, END)\n",
    "    e14.delete(0, END)\n",
    "    e15.delete(0, END)\n",
    "    e16.delete(0, END)\n",
    "    e17.delete(0, END)\n",
    "    e18.delete(0, END)\n",
    "    e19.delete(0, END)\n",
    "    e20.delete(0, END)\n",
    "    e21.delete(0, END)\n",
    "    e22.delete(0, END)\n",
    "    monthchoosen.delete(0, END)\n",
    "    yearChosen.delete(0 ,END)\n",
    "    numberChosen.delete(0, END)"
   ]
  },
  {
   "cell_type": "markdown",
   "id": "8cf6e474",
   "metadata": {},
   "source": [
    "This above function is used when User want to enter more than 1 students details in database."
   ]
  },
  {
   "cell_type": "code",
   "execution_count": null,
   "id": "49bfb6fb",
   "metadata": {},
   "outputs": [],
   "source": [
    "def reset_fun():\n",
    "    messagebox.showinfo(\"Hello\", \"Do You Want To Reset\")\n",
    "    e1.delete(0, END)\n",
    "    e2.delete(0, END)\n",
    "    e3.delete(0, END)\n",
    "    e4.delete(0, END)\n",
    "    e5.delete(0, END)\n",
    "    e6.delete(0, END)\n",
    "    e7.delete(0, END)\n",
    "    e8.delete(0, END)\n",
    "    e9.delete(0, END)\n",
    "    e11.delete(0, END)\n",
    "    e12.delete(0, END)\n",
    "    e13.delete(0, END)\n",
    "    e14.delete(0, END)\n",
    "    e15.delete(0, END)\n",
    "    e16.delete(0, END)\n",
    "    e17.delete(0, END)\n",
    "    e18.delete(0, END)\n",
    "    e19.delete(0, END)\n",
    "    e20.delete(0, END)\n",
    "    e21.delete(0, END)\n",
    "    e22.delete(0, END)\n",
    "    monthchoosen.delete(0, END)\n",
    "    yearChosen.delete(0 ,END)\n",
    "    numberChosen.delete(0, END)"
   ]
  },
  {
   "cell_type": "markdown",
   "id": "84fb8f3d",
   "metadata": {},
   "source": [
    "This Function is used to Reset the values which User has entered."
   ]
  },
  {
   "cell_type": "code",
   "execution_count": null,
   "id": "eaaf357e",
   "metadata": {},
   "outputs": [],
   "source": [
    "sbmitbtn = Button(top, text = \"Submit\",command = fun2,activebackground = \"orange\", activeforeground = \"blue\").place(x = 680, y = 700)\n",
    "sbmitbtn_2 = Button(top, text = \"Reset\",command=reset_fun,activebackground = \"orange\", activeforeground = \"blue\").place(x = 780, y = 700)"
   ]
  },
  {
   "cell_type": "markdown",
   "id": "3eed8aa6",
   "metadata": {},
   "source": [
    "Button :- The Button is used to add various kinds of buttons to the python application.\n",
    "\n",
    "Here in this project I have Used \"Submit Button\" & \"Reset Button\""
   ]
  },
  {
   "cell_type": "code",
   "execution_count": null,
   "id": "2b36ca06",
   "metadata": {},
   "outputs": [],
   "source": [
    "c.pack()\n",
    "top.mainloop()      # Here we have closed TK Inter Application."
   ]
  },
  {
   "cell_type": "markdown",
   "id": "ddb7e72c",
   "metadata": {},
   "source": [
    "The pack() widget is used to organize widget in the block. The positions widgets added to the python application using the pack() method can be controlled by using the various options specified in the method call."
   ]
  },
  {
   "cell_type": "code",
   "execution_count": null,
   "id": "debf714b",
   "metadata": {},
   "outputs": [],
   "source": []
  }
 ],
 "metadata": {
  "kernelspec": {
   "display_name": "Python 3 (ipykernel)",
   "language": "python",
   "name": "python3"
  },
  "language_info": {
   "codemirror_mode": {
    "name": "ipython",
    "version": 3
   },
   "file_extension": ".py",
   "mimetype": "text/x-python",
   "name": "python",
   "nbconvert_exporter": "python",
   "pygments_lexer": "ipython3",
   "version": "3.8.12"
  }
 },
 "nbformat": 4,
 "nbformat_minor": 5
}
